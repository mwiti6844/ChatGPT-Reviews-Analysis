{
 "cells": [
  {
   "cell_type": "code",
   "execution_count": 1,
   "id": "02520194-0227-44ca-948c-94a487f3fe48",
   "metadata": {},
   "outputs": [],
   "source": [
    "# Import necessary libraries for the task\n",
    "import pandas as pd\n",
    "import plotly.graph_objects as go\n",
    "import plotly.express as px\n",
    "from transformers import pipeline\n",
    "from sklearn.feature_extraction.text import CountVectorizer\n",
    "from collections import Counter\n",
    "from datetime import datetime\n",
    "\n",
    "# Setting Plotly default theme\n",
    "import plotly.io as pio\n",
    "pio.templates.default = \"plotly_white\"\n",
    "\n"
   ]
  },
  {
   "cell_type": "markdown",
   "id": "c65616fc-ef85-49d9-8b28-4c6730d0a760",
   "metadata": {},
   "source": [
    "## Load and Preprocess the Dataset"
   ]
  },
  {
   "cell_type": "code",
   "execution_count": 2,
   "id": "a2ac54b1-56f8-4f39-88f6-06857bf41061",
   "metadata": {},
   "outputs": [
    {
     "data": {
      "text/html": [
       "<div>\n",
       "<style scoped>\n",
       "    .dataframe tbody tr th:only-of-type {\n",
       "        vertical-align: middle;\n",
       "    }\n",
       "\n",
       "    .dataframe tbody tr th {\n",
       "        vertical-align: top;\n",
       "    }\n",
       "\n",
       "    .dataframe thead th {\n",
       "        text-align: right;\n",
       "    }\n",
       "</style>\n",
       "<table border=\"1\" class=\"dataframe\">\n",
       "  <thead>\n",
       "    <tr style=\"text-align: right;\">\n",
       "      <th></th>\n",
       "      <th>Review Id</th>\n",
       "      <th>Review</th>\n",
       "      <th>Ratings</th>\n",
       "      <th>Review Date</th>\n",
       "    </tr>\n",
       "  </thead>\n",
       "  <tbody>\n",
       "    <tr>\n",
       "      <th>0</th>\n",
       "      <td>6fb93778-651a-4ad1-b5ed-67dd0bd35aac</td>\n",
       "      <td>good</td>\n",
       "      <td>5</td>\n",
       "      <td>2024-08-23 19:30:05</td>\n",
       "    </tr>\n",
       "    <tr>\n",
       "      <th>1</th>\n",
       "      <td>81caeefd-3a28-4601-a898-72897ac906f5</td>\n",
       "      <td>good</td>\n",
       "      <td>5</td>\n",
       "      <td>2024-08-23 19:28:18</td>\n",
       "    </tr>\n",
       "    <tr>\n",
       "      <th>2</th>\n",
       "      <td>452af49e-1d8b-4b68-b1ac-a94c64cb1dd5</td>\n",
       "      <td>nice app</td>\n",
       "      <td>5</td>\n",
       "      <td>2024-08-23 19:22:59</td>\n",
       "    </tr>\n",
       "    <tr>\n",
       "      <th>3</th>\n",
       "      <td>372a4096-ee6a-4b94-b046-cef0b646c965</td>\n",
       "      <td>nice, ig</td>\n",
       "      <td>5</td>\n",
       "      <td>2024-08-23 19:20:50</td>\n",
       "    </tr>\n",
       "    <tr>\n",
       "      <th>4</th>\n",
       "      <td>b0d66a4b-9bde-4b7c-8b11-66ed6ccdd7da</td>\n",
       "      <td>this is a great app, the bot is so accurate to...</td>\n",
       "      <td>5</td>\n",
       "      <td>2024-08-23 19:20:39</td>\n",
       "    </tr>\n",
       "  </tbody>\n",
       "</table>\n",
       "</div>"
      ],
      "text/plain": [
       "                              Review Id  \\\n",
       "0  6fb93778-651a-4ad1-b5ed-67dd0bd35aac   \n",
       "1  81caeefd-3a28-4601-a898-72897ac906f5   \n",
       "2  452af49e-1d8b-4b68-b1ac-a94c64cb1dd5   \n",
       "3  372a4096-ee6a-4b94-b046-cef0b646c965   \n",
       "4  b0d66a4b-9bde-4b7c-8b11-66ed6ccdd7da   \n",
       "\n",
       "                                              Review  Ratings  \\\n",
       "0                                               good        5   \n",
       "1                                               good        5   \n",
       "2                                           nice app        5   \n",
       "3                                           nice, ig        5   \n",
       "4  this is a great app, the bot is so accurate to...        5   \n",
       "\n",
       "          Review Date  \n",
       "0 2024-08-23 19:30:05  \n",
       "1 2024-08-23 19:28:18  \n",
       "2 2024-08-23 19:22:59  \n",
       "3 2024-08-23 19:20:50  \n",
       "4 2024-08-23 19:20:39  "
      ]
     },
     "execution_count": 2,
     "metadata": {},
     "output_type": "execute_result"
    }
   ],
   "source": [
    "# Load the dataset\n",
    "df = pd.read_csv(\"chatgpt_reviews.csv\")\n",
    "\n",
    "# Handle missing values in the 'Review' column by replacing them with empty strings\n",
    "df['Review'] = df['Review'].astype(str).fillna('')\n",
    "\n",
    "# Convert 'Review Date' to datetime format\n",
    "df['Review Date'] = pd.to_datetime(df['Review Date'])\n",
    "\n",
    "# Display the first few rows of the dataset\n",
    "df.head()\n"
   ]
  },
  {
   "cell_type": "markdown",
   "id": "9992c3e5-e445-4083-9ec1-dbf3be026ed8",
   "metadata": {},
   "source": [
    "Let’s have a look at whether the dataset has any null values or not:"
   ]
  },
  {
   "cell_type": "code",
   "execution_count": 3,
   "id": "55dc773b-d8a0-4b04-a4c3-8fceba972bc7",
   "metadata": {},
   "outputs": [
    {
     "data": {
      "text/plain": [
       "Review Id      0\n",
       "Review         0\n",
       "Ratings        0\n",
       "Review Date    0\n",
       "dtype: int64"
      ]
     },
     "execution_count": 3,
     "metadata": {},
     "output_type": "execute_result"
    }
   ],
   "source": [
    "df.isnull().sum()"
   ]
  },
  {
   "cell_type": "markdown",
   "id": "249c6bed-e9b0-4cb3-a796-73797395e83f",
   "metadata": {},
   "source": [
    "## Sentiment Analysis using Transformers"
   ]
  },
  {
   "cell_type": "code",
   "execution_count": 15,
   "id": "79b29690-cce9-4ac0-bb3c-2e9b00df79d6",
   "metadata": {},
   "outputs": [],
   "source": [
    "# Hugging Face\n",
    "from transformers import AutoModelForSequenceClassification, AutoTokenizer, pipeline\n",
    "import torch\n",
    "import numpy as np\n",
    "\n",
    "# Check if GPU is available\n",
    "device = 0 if torch.cuda.is_available() else -1  # GPU: 0, CPU: -1"
   ]
  },
  {
   "cell_type": "code",
   "execution_count": 14,
   "id": "f23f57f6-4a40-4940-bebd-5bfce27fcc43",
   "metadata": {},
   "outputs": [],
   "source": [
    "# Set the seed for reproducibility\n",
    "torch.manual_seed(42)\n",
    "np.random.seed(42)\n",
    "torch.cuda.manual_seed_all(42)\n",
    "\n",
    "# set the deterministic flag\n",
    "torch.backends.cudnn.deterministic = True\n",
    "torch.backends.cudnn.benchmark = False"
   ]
  },
  {
   "cell_type": "code",
   "execution_count": 23,
   "id": "e55e193d-f3be-4cb7-a1cc-000f57121b4d",
   "metadata": {},
   "outputs": [
    {
     "name": "stderr",
     "output_type": "stream",
     "text": [
      "Some weights of the model checkpoint at cardiffnlp/twitter-roberta-base-sentiment-latest were not used when initializing RobertaForSequenceClassification: ['roberta.pooler.dense.bias', 'roberta.pooler.dense.weight']\n",
      "- This IS expected if you are initializing RobertaForSequenceClassification from the checkpoint of a model trained on another task or with another architecture (e.g. initializing a BertForSequenceClassification model from a BertForPreTraining model).\n",
      "- This IS NOT expected if you are initializing RobertaForSequenceClassification from the checkpoint of a model that you expect to be exactly identical (initializing a BertForSequenceClassification model from a BertForSequenceClassification model).\n"
     ]
    },
    {
     "data": {
      "text/html": [
       "<div>\n",
       "<style scoped>\n",
       "    .dataframe tbody tr th:only-of-type {\n",
       "        vertical-align: middle;\n",
       "    }\n",
       "\n",
       "    .dataframe tbody tr th {\n",
       "        vertical-align: top;\n",
       "    }\n",
       "\n",
       "    .dataframe thead th {\n",
       "        text-align: right;\n",
       "    }\n",
       "</style>\n",
       "<table border=\"1\" class=\"dataframe\">\n",
       "  <thead>\n",
       "    <tr style=\"text-align: right;\">\n",
       "      <th></th>\n",
       "      <th>Review Id</th>\n",
       "      <th>Review</th>\n",
       "      <th>Ratings</th>\n",
       "      <th>Review Date</th>\n",
       "      <th>Sentiment</th>\n",
       "    </tr>\n",
       "  </thead>\n",
       "  <tbody>\n",
       "    <tr>\n",
       "      <th>0</th>\n",
       "      <td>6fb93778-651a-4ad1-b5ed-67dd0bd35aac</td>\n",
       "      <td>good</td>\n",
       "      <td>5</td>\n",
       "      <td>2024-08-23 19:30:05</td>\n",
       "      <td>positive</td>\n",
       "    </tr>\n",
       "    <tr>\n",
       "      <th>1</th>\n",
       "      <td>81caeefd-3a28-4601-a898-72897ac906f5</td>\n",
       "      <td>good</td>\n",
       "      <td>5</td>\n",
       "      <td>2024-08-23 19:28:18</td>\n",
       "      <td>positive</td>\n",
       "    </tr>\n",
       "    <tr>\n",
       "      <th>2</th>\n",
       "      <td>452af49e-1d8b-4b68-b1ac-a94c64cb1dd5</td>\n",
       "      <td>nice app</td>\n",
       "      <td>5</td>\n",
       "      <td>2024-08-23 19:22:59</td>\n",
       "      <td>positive</td>\n",
       "    </tr>\n",
       "    <tr>\n",
       "      <th>3</th>\n",
       "      <td>372a4096-ee6a-4b94-b046-cef0b646c965</td>\n",
       "      <td>nice, ig</td>\n",
       "      <td>5</td>\n",
       "      <td>2024-08-23 19:20:50</td>\n",
       "      <td>positive</td>\n",
       "    </tr>\n",
       "    <tr>\n",
       "      <th>4</th>\n",
       "      <td>b0d66a4b-9bde-4b7c-8b11-66ed6ccdd7da</td>\n",
       "      <td>this is a great app, the bot is so accurate to...</td>\n",
       "      <td>5</td>\n",
       "      <td>2024-08-23 19:20:39</td>\n",
       "      <td>positive</td>\n",
       "    </tr>\n",
       "  </tbody>\n",
       "</table>\n",
       "</div>"
      ],
      "text/plain": [
       "                              Review Id  \\\n",
       "0  6fb93778-651a-4ad1-b5ed-67dd0bd35aac   \n",
       "1  81caeefd-3a28-4601-a898-72897ac906f5   \n",
       "2  452af49e-1d8b-4b68-b1ac-a94c64cb1dd5   \n",
       "3  372a4096-ee6a-4b94-b046-cef0b646c965   \n",
       "4  b0d66a4b-9bde-4b7c-8b11-66ed6ccdd7da   \n",
       "\n",
       "                                              Review  Ratings  \\\n",
       "0                                               good        5   \n",
       "1                                               good        5   \n",
       "2                                           nice app        5   \n",
       "3                                           nice, ig        5   \n",
       "4  this is a great app, the bot is so accurate to...        5   \n",
       "\n",
       "          Review Date Sentiment  \n",
       "0 2024-08-23 19:30:05  positive  \n",
       "1 2024-08-23 19:28:18  positive  \n",
       "2 2024-08-23 19:22:59  positive  \n",
       "3 2024-08-23 19:20:50  positive  \n",
       "4 2024-08-23 19:20:39  positive  "
      ]
     },
     "execution_count": 23,
     "metadata": {},
     "output_type": "execute_result"
    }
   ],
   "source": [
    "from transformers import AutoModelForSequenceClassification, AutoTokenizer, pipeline\n",
    "import torch\n",
    "\n",
    "# Check if GPU is available\n",
    "device = 0 if torch.cuda.is_available() else -1  # GPU: 0, CPU: -1\n",
    "\n",
    "# Specify the model ID from Hugging Face\n",
    "model_id = \"cardiffnlp/twitter-roberta-base-sentiment-latest\"\n",
    "\n",
    "# Load the model from Hugging Face\n",
    "model = AutoModelForSequenceClassification.from_pretrained(\n",
    "    model_id,\n",
    "    num_labels=3  # The model is fine-tuned for 3 labels: positive, negative, neutral\n",
    ")\n",
    "\n",
    "# Load the tokenizer\n",
    "tokenizer = AutoTokenizer.from_pretrained(model_id)\n",
    "\n",
    "# Load the model & tokenizer into the pipeline for sentiment analysis\n",
    "nlp = pipeline(\n",
    "    \"sentiment-analysis\",\n",
    "    model=model,\n",
    "    tokenizer=tokenizer,\n",
    "    device=device,  # Use GPU if available\n",
    "    truncation=True,  # Truncate input if it exceeds the max length\n",
    "    max_length=512  # Ensure the token length does not exceed 512\n",
    ")\n",
    "\n",
    "# Apply sentiment analysis to the 'Review' column with truncation\n",
    "df['Sentiment'] = df['Review'].apply(lambda review: nlp(review[:512])[0]['label'])\n",
    "\n",
    "# Display the dataset with sentiment labels\n",
    "df.head()\n"
   ]
  },
  {
   "cell_type": "markdown",
   "id": "692621b3-9bed-46d7-a671-9bddc2efa4b2",
   "metadata": {},
   "source": [
    "## Sentiment Distribution Plot"
   ]
  },
  {
   "cell_type": "code",
   "execution_count": 31,
   "id": "6e472d17-e514-4dd7-8162-ca856da05bff",
   "metadata": {},
   "outputs": [
    {
     "data": {
      "text/html": [
       "<iframe\n",
       "    scrolling=\"no\"\n",
       "    width=\"100%\"\n",
       "    height=\"545px\"\n",
       "    src=\"iframe_figures/figure_31.html\"\n",
       "    frameborder=\"0\"\n",
       "    allowfullscreen\n",
       "></iframe>\n"
      ]
     },
     "metadata": {},
     "output_type": "display_data"
    }
   ],
   "source": [
    "import plotly.express as px\n",
    "\n",
    "# Count the sentiment distribution\n",
    "sentiment_distribution = df['Sentiment'].value_counts()\n",
    "\n",
    "# Create a basic bar plot of sentiment distribution\n",
    "fig = px.bar(x=sentiment_distribution.index, \n",
    "             y=sentiment_distribution.values,\n",
    "             labels={'x': 'Sentiment', 'y': 'Count'},\n",
    "             title='Sentiment Distribution of ChatGPT Reviews')\n",
    "\n",
    "# Display the plot\n",
    "fig.show()"
   ]
  },
  {
   "cell_type": "markdown",
   "id": "8a801815-3ac5-4cf8-84ac-7c4e807df676",
   "metadata": {},
   "source": [
    "### Analyzing Reviews Over Time\n",
    "\n",
    "Track how sentiment changes over time by aggregating reviews by month or year."
   ]
  },
  {
   "cell_type": "code",
   "execution_count": 32,
   "id": "07077f37-c29d-4c25-9463-e3583489a784",
   "metadata": {},
   "outputs": [],
   "source": [
    "# Convert 'Review Date' to datetime format if not already done\n",
    "df['Review Date'] = pd.to_datetime(df['Review Date'])\n",
    "\n"
   ]
  },
  {
   "cell_type": "code",
   "execution_count": null,
   "id": "039fbbab-8e6a-4bd4-acc5-0c00412f5fc7",
   "metadata": {},
   "outputs": [],
   "source": []
  },
  {
   "cell_type": "code",
   "execution_count": 33,
   "id": "e003e821-1e8c-4ab7-9185-c270ae895c3f",
   "metadata": {},
   "outputs": [],
   "source": [
    "# Group by month and sentiment, count the occurrences\n",
    "sentiment_over_time = df.groupby([df['Review Date'].dt.to_period('M'), 'Sentiment']).size().unstack(fill_value=0)\n"
   ]
  },
  {
   "cell_type": "code",
   "execution_count": 37,
   "id": "5c3b87d8-452b-4430-8bef-e532433b630c",
   "metadata": {},
   "outputs": [],
   "source": [
    "# Convert the PeriodIndex to string for Plotly compatibility\n",
    "sentiment_over_time.index = sentiment_over_time.index.astype(str)"
   ]
  },
  {
   "cell_type": "markdown",
   "id": "d5cb480f-ae56-404c-9f81-65e94e57df93",
   "metadata": {},
   "source": [
    "* Converts the PeriodIndex to a string representation that Plotly can handle for plotting."
   ]
  },
  {
   "cell_type": "code",
   "execution_count": 38,
   "id": "12473429-6fb6-4227-832f-a15da00ba465",
   "metadata": {},
   "outputs": [
    {
     "data": {
      "text/html": [
       "<iframe\n",
       "    scrolling=\"no\"\n",
       "    width=\"100%\"\n",
       "    height=\"545px\"\n",
       "    src=\"iframe_figures/figure_38.html\"\n",
       "    frameborder=\"0\"\n",
       "    allowfullscreen\n",
       "></iframe>\n"
      ]
     },
     "metadata": {},
     "output_type": "display_data"
    }
   ],
   "source": [
    "\n",
    "\n",
    "# Plot sentiment trends over time\n",
    "fig = px.line(sentiment_over_time, \n",
    "              x=sentiment_over_time.index, \n",
    "              y=['negative', 'neutral', 'positive'],  # Ensure the column names match\n",
    "              labels={'x': 'Month', 'y': 'Number of Reviews'},\n",
    "              title='Sentiment Trends Over Time')\n",
    "\n",
    "# Display the plot\n",
    "fig.show()"
   ]
  },
  {
   "cell_type": "markdown",
   "id": "2e11147d-2e62-4b07-a976-43aeae2ec4b7",
   "metadata": {},
   "source": [
    "## Extract and Visualize Common Phrases (N-grams):"
   ]
  },
  {
   "cell_type": "code",
   "execution_count": 39,
   "id": "6d963146-601c-4a3d-a1d8-ed9c2c0aa45b",
   "metadata": {},
   "outputs": [],
   "source": [
    "from sklearn.feature_extraction.text import CountVectorizer\n",
    "\n",
    "# Filter positive reviews\n",
    "positive_reviews = df[df['Sentiment'] == 'positive']['Review']\n",
    "\n",
    "# Initialize CountVectorizer for bigrams (2-grams) or trigrams (3-grams)\n",
    "vectorizer = CountVectorizer(ngram_range=(2, 3), stop_words='english', max_features=20)\n",
    "\n",
    "# Fit and transform the positive reviews to extract the n-grams\n",
    "X_pos = vectorizer.fit_transform(positive_reviews)\n"
   ]
  },
  {
   "cell_type": "code",
   "execution_count": 40,
   "id": "18b7fd86-dd0b-4db0-b535-fca3fad04c70",
   "metadata": {},
   "outputs": [],
   "source": [
    "# Get the n-grams and their frequencies\n",
    "ngrams_pos = vectorizer.get_feature_names_out()\n",
    "ngram_counts_pos = X_pos.sum(axis=0).tolist()[0]\n"
   ]
  },
  {
   "cell_type": "code",
   "execution_count": 41,
   "id": "ec929114-3d63-4041-885e-2f53c3f2dfc8",
   "metadata": {},
   "outputs": [],
   "source": [
    "# Create a DataFrame for visualization\n",
    "positive_ngrams_df = pd.DataFrame({'Phrase': ngrams_pos, 'Frequency': ngram_counts_pos})\n",
    "\n",
    "# Sort by frequency\n",
    "positive_ngrams_df = positive_ngrams_df.sort_values(by='Frequency', ascending=False)\n"
   ]
  },
  {
   "cell_type": "code",
   "execution_count": 42,
   "id": "0b2231fc-6c6b-4902-aca8-fa0ec23f978f",
   "metadata": {},
   "outputs": [
    {
     "data": {
      "text/html": [
       "<iframe\n",
       "    scrolling=\"no\"\n",
       "    width=\"100%\"\n",
       "    height=\"545px\"\n",
       "    src=\"iframe_figures/figure_42.html\"\n",
       "    frameborder=\"0\"\n",
       "    allowfullscreen\n",
       "></iframe>\n"
      ]
     },
     "metadata": {},
     "output_type": "display_data"
    }
   ],
   "source": [
    "# Plot the top n-grams in positive reviews\n",
    "fig = px.bar(positive_ngrams_df, \n",
    "             x='Frequency', \n",
    "             y='Phrase', \n",
    "             orientation='h', \n",
    "             title='Top Common Phrases in Positive Reviews')\n",
    "fig.show()"
   ]
  },
  {
   "cell_type": "markdown",
   "id": "2b94514c-43e6-4b48-ad68-14b9c6a23d0a",
   "metadata": {},
   "source": [
    "## Extract and Visualize N-grams for Negative Reviews"
   ]
  },
  {
   "cell_type": "code",
   "execution_count": 43,
   "id": "2b5a12a6-a52c-4a9a-99fe-994530e86643",
   "metadata": {},
   "outputs": [],
   "source": [
    "# Filter negative reviews\n",
    "negative_reviews = df[df['Sentiment'] == 'negative']['Review']\n",
    "\n",
    "# Fit and transform the negative reviews to extract the n-grams\n",
    "X_neg = vectorizer.fit_transform(negative_reviews)\n",
    "\n",
    "# Get the n-grams and their frequencies\n",
    "ngrams_neg = vectorizer.get_feature_names_out()\n",
    "ngram_counts_neg = X_neg.sum(axis=0).tolist()[0]\n",
    "\n"
   ]
  },
  {
   "cell_type": "code",
   "execution_count": 44,
   "id": "1e13bb82-9242-4704-ab36-1917713c99a0",
   "metadata": {},
   "outputs": [],
   "source": [
    "# Create a DataFrame for visualization\n",
    "negative_ngrams_df = pd.DataFrame({'Phrase': ngrams_neg, 'Frequency': ngram_counts_neg})\n",
    "\n",
    "# Sort by frequency\n",
    "negative_ngrams_df = negative_ngrams_df.sort_values(by='Frequency', ascending=False)\n"
   ]
  },
  {
   "cell_type": "code",
   "execution_count": 45,
   "id": "9ffa53e5-795e-42b4-99e8-ff177912ef00",
   "metadata": {},
   "outputs": [
    {
     "data": {
      "text/html": [
       "<div>\n",
       "<style scoped>\n",
       "    .dataframe tbody tr th:only-of-type {\n",
       "        vertical-align: middle;\n",
       "    }\n",
       "\n",
       "    .dataframe tbody tr th {\n",
       "        vertical-align: top;\n",
       "    }\n",
       "\n",
       "    .dataframe thead th {\n",
       "        text-align: right;\n",
       "    }\n",
       "</style>\n",
       "<table border=\"1\" class=\"dataframe\">\n",
       "  <thead>\n",
       "    <tr style=\"text-align: right;\">\n",
       "      <th></th>\n",
       "      <th>Phrase</th>\n",
       "      <th>Frequency</th>\n",
       "    </tr>\n",
       "  </thead>\n",
       "  <tbody>\n",
       "    <tr>\n",
       "      <th>4</th>\n",
       "      <td>chat gpt</td>\n",
       "      <td>486</td>\n",
       "    </tr>\n",
       "    <tr>\n",
       "      <th>5</th>\n",
       "      <td>doesn work</td>\n",
       "      <td>399</td>\n",
       "    </tr>\n",
       "    <tr>\n",
       "      <th>13</th>\n",
       "      <td>try later</td>\n",
       "      <td>324</td>\n",
       "    </tr>\n",
       "    <tr>\n",
       "      <th>6</th>\n",
       "      <td>don know</td>\n",
       "      <td>234</td>\n",
       "    </tr>\n",
       "    <tr>\n",
       "      <th>9</th>\n",
       "      <td>good app</td>\n",
       "      <td>219</td>\n",
       "    </tr>\n",
       "  </tbody>\n",
       "</table>\n",
       "</div>"
      ],
      "text/plain": [
       "        Phrase  Frequency\n",
       "4     chat gpt        486\n",
       "5   doesn work        399\n",
       "13   try later        324\n",
       "6     don know        234\n",
       "9     good app        219"
      ]
     },
     "execution_count": 45,
     "metadata": {},
     "output_type": "execute_result"
    }
   ],
   "source": [
    "negative_ngrams_df.head()"
   ]
  },
  {
   "cell_type": "code",
   "execution_count": 46,
   "id": "5da1367a-fd9d-43fd-b82b-b0a846c840b0",
   "metadata": {},
   "outputs": [
    {
     "data": {
      "text/html": [
       "<iframe\n",
       "    scrolling=\"no\"\n",
       "    width=\"100%\"\n",
       "    height=\"545px\"\n",
       "    src=\"iframe_figures/figure_46.html\"\n",
       "    frameborder=\"0\"\n",
       "    allowfullscreen\n",
       "></iframe>\n"
      ]
     },
     "metadata": {},
     "output_type": "display_data"
    }
   ],
   "source": [
    "# Plot the top n-grams in negative reviews\n",
    "fig = px.bar(negative_ngrams_df, \n",
    "             x='Frequency', \n",
    "             y='Phrase', \n",
    "             orientation='h', \n",
    "             title='Top Common Phrases in Negative Reviews')\n",
    "fig.show()\n"
   ]
  },
  {
   "cell_type": "markdown",
   "id": "e39004ff-be56-411b-81af-bebf664aec2e",
   "metadata": {},
   "source": [
    "## Sentiment vs. Ratings Correlation:\n",
    "Analyze how sentiment relates to ratings. Do higher-rated reviews correlate with more positive sentiments? Are there any discrepancies where people rate the product highly but express neutral or negative sentiments?"
   ]
  },
  {
   "cell_type": "code",
   "execution_count": 47,
   "id": "5d74e897-2294-4029-af02-35dbcc8e3ad9",
   "metadata": {},
   "outputs": [
    {
     "data": {
      "text/plain": [
       "<Axes: title={'center': 'Sentiment Distribution by Ratings'}, xlabel='Ratings'>"
      ]
     },
     "execution_count": 47,
     "metadata": {},
     "output_type": "execute_result"
    },
    {
     "data": {
      "image/png": "[encoded data removed]",
      "text/plain": [
       "<Figure size 640x480 with 1 Axes>"
      ]
     },
     "metadata": {},
     "output_type": "display_data"
    }
   ],
   "source": [
    "# Group the data by Ratings and Sentiment to see the distribution\n",
    "sentiment_ratings = df.groupby(['Ratings', 'Sentiment']).size().unstack(fill_value=0)\n",
    "\n",
    "# Visualize the correlation between Ratings and Sentiment\n",
    "sentiment_ratings.plot(kind='bar', stacked=True, title='Sentiment Distribution by Ratings')\n"
   ]
  },
  {
   "cell_type": "markdown",
   "id": "e5e46b76-83b2-406c-9fd7-d7e9986ccb11",
   "metadata": {},
   "source": [
    "## User Review Length Analysis:\n",
    "Analyze the length of the reviews (number of words or characters) and see how that relates to the sentiment. Do longer reviews tend to be more negative or more positive?"
   ]
  },
  {
   "cell_type": "code",
   "execution_count": 49,
   "id": "e6842c9d-45a2-4381-8de3-16b6c5fa47ba",
   "metadata": {},
   "outputs": [
    {
     "data": {
      "image/png": "[encoded data removed]",
      "text/plain": [
       "<Figure size 640x480 with 1 Axes>"
      ]
     },
     "metadata": {},
     "output_type": "display_data"
    }
   ],
   "source": [
    "# Add a column for review length\n",
    "df['Review Length'] = df['Review'].apply(len)\n",
    "\n",
    "# Compare average review length by sentiment\n",
    "review_length_by_sentiment = df.groupby('Sentiment')['Review Length'].mean()\n",
    "\n",
    "# Plot review length by sentiment\n",
    "review_length_by_sentiment.plot(kind='bar', title='Average Review Length by Sentiment');\n"
   ]
  },
  {
   "cell_type": "markdown",
   "id": "05409f8b-e5f9-415e-9bd3-3693ee9f73df",
   "metadata": {},
   "source": [
    "## Net Promoter Score (NPS) Calculation:\n",
    "The Net Promoter Score (NPS) is a customer loyalty metric. You can categorize reviews into Promoters, Passives, and Detractors based on their ratings, and calculate the NPS to see how likely users are to recommend the product."
   ]
  },
  {
   "cell_type": "code",
   "execution_count": 50,
   "id": "1ad44825-6920-4cf0-9c54-b8927ac3d8af",
   "metadata": {},
   "outputs": [
    {
     "name": "stdout",
     "output_type": "stream",
     "text": [
      "Net Promoter Score (NPS): 64.35313912172705\n"
     ]
    }
   ],
   "source": [
    "# Define the categories based on the ratings\n",
    "df['NPS Category'] = df['Ratings'].apply(lambda x: 'Promoter' if x == 5 else ('Passive' if x == 4 else 'Detractor'))\n",
    "\n",
    "# Calculate the percentage of each category\n",
    "nps_counts = df['NPS Category'].value_counts(normalize=True) * 100\n",
    "\n",
    "# Calculate NPS\n",
    "nps_score = nps_counts.get('Promoter', 0) - nps_counts.get('Detractor', 0)\n",
    "\n",
    "print(f\"Net Promoter Score (NPS): {nps_score}\")\n"
   ]
  },
  {
   "cell_type": "markdown",
   "id": "47f213bd-aa6b-4ad2-8874-0fd9e9d1617f",
   "metadata": {},
   "source": [
    "### Net Promoter Score (NPS) Analysis\n",
    "\n",
    "**NPS Value**: 64.35\n",
    "\n",
    "This is a **solid score**, indicating that a significant proportion of users are **Promoters** (those who rate your product highly and are likely to recommend it to others).\n",
    "\n",
    "### Interpreting the NPS:\n",
    "\n",
    "- **NPS > 50**:  \n",
    "  This is generally considered **excellent**, meaning a large number of users are satisfied with the product.\n",
    "  \n",
    "- **NPS between 0 and 50**:  \n",
    "  This is considered **good**, but it indicates there is room for improvement.\n",
    "  \n",
    "- **NPS < 0**:  \n",
    "  This suggests a high number of dissatisfied users, which requires immediate attention.\n",
    "\n",
    "### A NPS of 64.35:\n",
    "- This score means that **most users are happy** with the product and willing to recommend it.\n",
    "- However, there may still be some **detractors** (users who rated the product low), and addressing their concerns could help to further improve the score.\n",
    "\n"
   ]
  },
  {
   "cell_type": "code",
   "execution_count": 51,
   "id": "047a9453-6475-45b4-94a9-d26b1c85fd27",
   "metadata": {},
   "outputs": [],
   "source": [
    "# Filter reviews by NPS categories\n",
    "promoter_reviews = df[df['NPS Category'] == 'Promoter']['Review']\n",
    "detractor_reviews = df[df['NPS Category'] == 'Detractor']['Review']\n",
    "passive_reviews = df[df['NPS Category'] == 'Passive']['Review']\n"
   ]
  },
  {
   "cell_type": "markdown",
   "id": "415b8b1a-78a3-4ef9-aff8-8713bc14b32a",
   "metadata": {},
   "source": [
    "Analyze Common Themes (N-grams) for Each Category\n",
    "We can reuse the CountVectorizer technique to extract common phrases (n-grams) from each group.\n",
    "\n",
    "### a. Promoters - Analyze common phrases"
   ]
  },
  {
   "cell_type": "code",
   "execution_count": 52,
   "id": "b97a6d95-4624-4e6f-89b2-d7aaf2969295",
   "metadata": {},
   "outputs": [
    {
     "data": {
      "text/html": [
       "<iframe\n",
       "    scrolling=\"no\"\n",
       "    width=\"100%\"\n",
       "    height=\"545px\"\n",
       "    src=\"iframe_figures/figure_52.html\"\n",
       "    frameborder=\"0\"\n",
       "    allowfullscreen\n",
       "></iframe>\n"
      ]
     },
     "metadata": {},
     "output_type": "display_data"
    }
   ],
   "source": [
    "from sklearn.feature_extraction.text import CountVectorizer\n",
    "\n",
    "# Initialize CountVectorizer for bigrams and trigrams\n",
    "vectorizer = CountVectorizer(ngram_range=(2, 3), stop_words='english', max_features=20)\n",
    "\n",
    "# Fit and transform promoter reviews\n",
    "X_promoter = vectorizer.fit_transform(promoter_reviews)\n",
    "\n",
    "# Get the n-grams and their frequencies\n",
    "ngrams_promoter = vectorizer.get_feature_names_out()\n",
    "ngram_counts_promoter = X_promoter.sum(axis=0).tolist()[0]\n",
    "\n",
    "# Create a DataFrame for visualization\n",
    "promoter_ngrams_df = pd.DataFrame({'Phrase': ngrams_promoter, 'Frequency': ngram_counts_promoter})\n",
    "\n",
    "# Sort by frequency\n",
    "promoter_ngrams_df = promoter_ngrams_df.sort_values(by='Frequency', ascending=False)\n",
    "\n",
    "# Plot the top n-grams for promoters\n",
    "fig = px.bar(promoter_ngrams_df, \n",
    "             x='Frequency', \n",
    "             y='Phrase', \n",
    "             orientation='h', \n",
    "             title='Top Common Phrases in Promoter Reviews')\n",
    "fig.show()\n"
   ]
  },
  {
   "cell_type": "markdown",
   "id": "01635be8-25f9-4a3b-8956-96f1327560ce",
   "metadata": {},
   "source": [
    "### b. Detractors - Analyze common phrases"
   ]
  },
  {
   "cell_type": "code",
   "execution_count": 53,
   "id": "5895419b-8ec7-409d-829a-88b162f29b0c",
   "metadata": {},
   "outputs": [
    {
     "data": {
      "text/html": [
       "<iframe\n",
       "    scrolling=\"no\"\n",
       "    width=\"100%\"\n",
       "    height=\"545px\"\n",
       "    src=\"iframe_figures/figure_53.html\"\n",
       "    frameborder=\"0\"\n",
       "    allowfullscreen\n",
       "></iframe>\n"
      ]
     },
     "metadata": {},
     "output_type": "display_data"
    }
   ],
   "source": [
    "# Fit and transform detractor reviews\n",
    "X_detractor = vectorizer.fit_transform(detractor_reviews)\n",
    "\n",
    "# Get the n-grams and their frequencies\n",
    "ngrams_detractor = vectorizer.get_feature_names_out()\n",
    "ngram_counts_detractor = X_detractor.sum(axis=0).tolist()[0]\n",
    "\n",
    "# Create a DataFrame for visualization\n",
    "detractor_ngrams_df = pd.DataFrame({'Phrase': ngrams_detractor, 'Frequency': ngram_counts_detractor})\n",
    "\n",
    "# Sort by frequency\n",
    "detractor_ngrams_df = detractor_ngrams_df.sort_values(by='Frequency', ascending=False)\n",
    "\n",
    "# Plot the top n-grams for detractors\n",
    "fig = px.bar(detractor_ngrams_df, \n",
    "             x='Frequency', \n",
    "             y='Phrase', \n",
    "             orientation='h', \n",
    "             title='Top Common Phrases in Detractor Reviews')\n",
    "fig.show()\n"
   ]
  },
  {
   "cell_type": "markdown",
   "id": "cf86c645-ab5f-4fb5-855e-1d32e5e247f5",
   "metadata": {},
   "source": [
    "### c. Passives - Analyze common phrases"
   ]
  },
  {
   "cell_type": "code",
   "execution_count": null,
   "id": "11f43af6-3a13-4769-89da-f957c7326544",
   "metadata": {},
   "outputs": [],
   "source": [
    "# Fit and transform passive reviews\n",
    "X_passive = vectorizer.fit_transform(passive_reviews)\n",
    "\n",
    "# Get the n-grams and their frequencies\n",
    "ngrams_passive = vectorizer.get_feature_names_out()\n",
    "ngram_counts_passive = X_passive.sum(axis=0).tolist()[0]\n",
    "\n",
    "# Create a DataFrame for visualization\n",
    "passive_ngrams_df = pd.DataFrame({'Phrase': ngrams_passive, 'Frequency': ngram_counts_passive})\n",
    "\n",
    "# Sort by frequency\n",
    "passive_ngrams_df = passive_ngrams_df.sort_values(by='Frequency', ascending=False)\n",
    "\n",
    "# Plot the top n-grams for passives\n",
    "fig = px.bar(passive_ngrams_df, \n",
    "             x='Frequency', \n",
    "             y='Phrase', \n",
    "             orientation='h', \n",
    "             title='Top Common Phrases in Passive Reviews')\n",
    "fig.show()\n"
   ]
  }
 ],
 "metadata": {
  "kernelspec": {
   "display_name": "Python 3",
   "language": "python",
   "name": "python3"
  },
  "language_info": {
   "codemirror_mode": {
    "name": "ipython",
    "version": 3
   },
   "file_extension": ".py",
   "mimetype": "text/x-python",
   "name": "python",
   "nbconvert_exporter": "python",
   "pygments_lexer": "ipython3",
   "version": "3.10.10"
  }
 },
 "nbformat": 4,
 "nbformat_minor": 5
}
